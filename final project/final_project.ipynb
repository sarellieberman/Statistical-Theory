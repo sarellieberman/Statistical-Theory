{
 "cells": [
  {
   "cell_type": "code",
   "execution_count": 48,
   "id": "2b97242e",
   "metadata": {},
   "outputs": [],
   "source": [
    "import pandas as pd\n",
    "import scipy.stats as stats\n",
    "import numpy as np\n",
    "import matplotlib.pyplot as plt"
   ]
  },
  {
   "cell_type": "code",
   "execution_count": 49,
   "id": "34bc7636",
   "metadata": {},
   "outputs": [],
   "source": [
    "criterion = \"romantic\"\n",
    "parameter = \"Walc\""
   ]
  },
  {
   "cell_type": "code",
   "execution_count": 50,
   "id": "2878873d",
   "metadata": {},
   "outputs": [
    {
     "name": "stdout",
     "output_type": "stream",
     "text": [
      "   Walc romantic\n",
      "0     1       no\n",
      "1     1       no\n",
      "2     3       no\n",
      "3     1      yes\n",
      "4     2       no\n"
     ]
    },
    {
     "data": {
      "text/plain": [
       "(1044, 2)"
      ]
     },
     "execution_count": 50,
     "metadata": {},
     "output_type": "execute_result"
    }
   ],
   "source": [
    "math_df = pd.read_csv('student-mat.csv')\n",
    "por_df = pd.read_csv('student-por.csv')\n",
    "# concat dataframes vertically\n",
    "df = pd.concat([math_df, por_df], axis=0)\n",
    "# leave only Walc and Romantic columns\n",
    "df = df[[parameter, criterion]]\n",
    "print(df.head())\n",
    "df.shape"
   ]
  },
  {
   "cell_type": "code",
   "execution_count": 51,
   "id": "b0372992",
   "metadata": {},
   "outputs": [
    {
     "name": "stdout",
     "output_type": "stream",
     "text": [
      "Average romantic Yes: 2.256064690026954\n",
      "Average romantic No: 2.300148588410104\n"
     ]
    }
   ],
   "source": [
    "# seperate the data into two groups based on the 'romantic' column\n",
    "criterion_yes = df[df[criterion] == \"yes\"][parameter]\n",
    "criterion_no = df[df[criterion] == \"no\"][parameter]\n",
    "#print the avarage of each distribution\n",
    "print(f\"Average {criterion} Yes: {criterion_yes.mean()}\")\n",
    "print(f\"Average {criterion} No: {criterion_no.mean()}\")"
   ]
  },
  {
   "cell_type": "code",
   "execution_count": 52,
   "id": "8a0623af",
   "metadata": {},
   "outputs": [
    {
     "name": "stdout",
     "output_type": "stream",
     "text": [
      "Number of romantic Yes: 371\n",
      "Number of romantic No: 673\n"
     ]
    }
   ],
   "source": [
    "print(f\"Number of {criterion} Yes: {criterion_yes.count()}\")\n",
    "print(f\"Number of {criterion} No: {criterion_no.count()}\")"
   ]
  },
  {
   "cell_type": "code",
   "execution_count": 53,
   "id": "cdaea236",
   "metadata": {},
   "outputs": [
    {
     "name": "stdout",
     "output_type": "stream",
     "text": [
      "Distribution romantic Yes:\n",
      "Walc\n",
      "1    0.390836\n",
      "2    0.226415\n",
      "3    0.196765\n",
      "4    0.107817\n",
      "5    0.078167\n",
      "Name: proportion, dtype: float64\n",
      "Distribution romantic No:\n",
      "Walc\n",
      "1    0.375929\n",
      "2    0.224368\n",
      "3    0.188707\n",
      "4    0.145617\n",
      "5    0.065379\n",
      "Name: proportion, dtype: float64\n"
     ]
    }
   ],
   "source": [
    "# print distributation of values on each group meanin how many get value of 0 how many 1 like a dice\n",
    "print(f\"Distribution {criterion} Yes:\\n{criterion_yes.value_counts(normalize=True)}\")\n",
    "print(f\"Distribution {criterion} No:\\n{criterion_no.value_counts(normalize=True)}\")"
   ]
  },
  {
   "cell_type": "code",
   "execution_count": 54,
   "id": "1de8cb34",
   "metadata": {},
   "outputs": [
    {
     "data": {
      "image/png": "[encoded data removed]",
      "text/plain": [
       "<Figure size 800x400 with 2 Axes>"
      ]
     },
     "metadata": {},
     "output_type": "display_data"
    }
   ],
   "source": [
    "# plot the distribution of Walc for both groups normalized\n",
    "plt.figure(figsize=(8, 4))\n",
    "\n",
    "# Histogram for 'Pstatus' == \"T\" (Yes)\n",
    "plt.subplot(1, 2, 1)\n",
    "plt.hist(criterion_yes, bins=5, alpha=0.7, color=\"blue\", density=True)\n",
    "plt.title(f\"{criterion} = yes Distribution\")\n",
    "plt.xlabel(\"Walc\")\n",
    "plt.ylabel(\"Density\")\n",
    "\n",
    "# Histogram for 'Pstatus' == \"A\" (No)\n",
    "plt.subplot(1, 2, 2)\n",
    "plt.hist(criterion_no, bins=5, alpha=0.7, color=\"green\", density=True)\n",
    "plt.title(f\"{criterion} = no Distribution\")\n",
    "plt.xlabel(\"Walc\")\n",
    "plt.ylabel(\"Density\")\n",
    "\n",
    "# Adjust layout and display\n",
    "plt.tight_layout()\n",
    "plt.show()\n",
    "# perform the t-test"
   ]
  },
  {
   "cell_type": "code",
   "execution_count": 55,
   "id": "7b9043b5",
   "metadata": {},
   "outputs": [
    {
     "name": "stdout",
     "output_type": "stream",
     "text": [
      "U-statistic: 127540.0, p-value: 0.7265162254376071\n",
      "There is no significant difference in Walc between students with and without a romantic relationship.\n"
     ]
    }
   ],
   "source": [
    "# use u-test to compare the two groups\n",
    "u_statistic, p_value = stats.mannwhitneyu(\n",
    "    criterion_no, criterion_yes, alternative=\"less\"\n",
    ")\n",
    "print(f\"U-statistic: {u_statistic}, p-value: {p_value}\")\n",
    "# check if the p-value is less than 0.05\n",
    "if p_value < 0.05:\n",
    "    print(\n",
    "        \"There is a significant difference in Walc between students with and without a romantic relationship.\"\n",
    "    )\n",
    "else:\n",
    "    print(\n",
    "        \"There is no significant difference in Walc between students with and without a romantic relationship.\"\n",
    "    )"
   ]
  }
 ],
 "metadata": {
  "kernelspec": {
   "display_name": "Python 3",
   "language": "python",
   "name": "python3"
  },
  "language_info": {
   "codemirror_mode": {
    "name": "ipython",
    "version": 3
   },
   "file_extension": ".py",
   "mimetype": "text/x-python",
   "name": "python",
   "nbconvert_exporter": "python",
   "pygments_lexer": "ipython3",
   "version": "3.11.6"
  }
 },
 "nbformat": 4,
 "nbformat_minor": 5
}
